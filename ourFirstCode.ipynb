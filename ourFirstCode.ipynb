{
 "cells": [
  {
   "cell_type": "markdown",
   "id": "12109cd9",
   "metadata": {},
   "source": [
    "# this is a comment"
   ]
  },
  {
   "cell_type": "code",
   "execution_count": 3,
   "id": "e2a4e826",
   "metadata": {
    "scrolled": true
   },
   "outputs": [
    {
     "name": "stdout",
     "output_type": "stream",
     "text": [
      "hello everyone\n"
     ]
    }
   ],
   "source": [
    "print(\"hello everyone\")"
   ]
  },
  {
   "cell_type": "code",
   "execution_count": 2,
   "id": "6b009224",
   "metadata": {},
   "outputs": [],
   "source": [
    "# this is a python comment"
   ]
  },
  {
   "cell_type": "markdown",
   "id": "cbcdeb23",
   "metadata": {},
   "source": [
    "# this is ths largest\n",
    "## this is the second largestone\n",
    "\n",
    "- this is point one\n",
    "- this is point two"
   ]
  },
  {
   "cell_type": "code",
   "execution_count": null,
   "id": "37cbaee5",
   "metadata": {},
   "outputs": [],
   "source": []
  }
 ],
 "metadata": {
  "kernelspec": {
   "display_name": "Python 3 (ipykernel)",
   "language": "python",
   "name": "python3"
  },
  "language_info": {
   "codemirror_mode": {
    "name": "ipython",
    "version": 3
   },
   "file_extension": ".py",
   "mimetype": "text/x-python",
   "name": "python",
   "nbconvert_exporter": "python",
   "pygments_lexer": "ipython3",
   "version": "3.11.5"
  }
 },
 "nbformat": 4,
 "nbformat_minor": 5
}
