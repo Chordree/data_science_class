{
 "cells": [
  {
   "cell_type": "markdown",
   "id": "12109cd9",
   "metadata": {},
   "source": [
    "# this is a comment"
   ]
  },
  {
   "cell_type": "code",
   "execution_count": 3,
   "id": "e2a4e826",
   "metadata": {
    "scrolled": true
   },
   "outputs": [
    {
     "name": "stdout",
     "output_type": "stream",
     "text": [
      "hello everyone\n"
     ]
    }
   ],
   "source": [
    "print(\"hello everyone\")"
   ]
  },
  {
   "cell_type": "code",
   "execution_count": 2,
   "id": "6b009224",
   "metadata": {},
   "outputs": [],
   "source": [
    "# this is a python comment"
   ]
  },
  {
   "cell_type": "markdown",
   "id": "cbcdeb23",
   "metadata": {},
   "source": [
    "# this is ths largest\n",
    "## this is the second largestone\n",
    "\n",
    "- this is point one\n",
    "- this is point two"
   ]
  },
  {
   "cell_type": "code",
   "execution_count": 2,
   "id": "37cbaee5",
   "metadata": {},
   "outputs": [
    {
     "name": "stdout",
     "output_type": "stream",
     "text": [
      "this is cool\n",
      "hello\n",
      "40\n"
     ]
    }
   ],
   "source": [
    "print('this is cool')\n",
    "print('hello') \n",
    "theList = [4,6,8,10]\n",
    "print(theList[0] * theList[3])"
   ]
  },
  {
   "cell_type": "code",
   "execution_count": null,
   "id": "fdebf231",
   "metadata": {},
   "outputs": [],
   "source": []
  },
  {
   "cell_type": "code",
   "execution_count": null,
   "id": "ff62ddcc",
   "metadata": {},
   "outputs": [],
   "source": []
  },
  {
   "cell_type": "code",
   "execution_count": null,
   "id": "e0e72050",
   "metadata": {},
   "outputs": [],
   "source": []
  },
  {
   "cell_type": "markdown",
   "id": "ffb020e3",
   "metadata": {},
   "source": [
    "## this is just a sample markdown"
   ]
  },
  {
   "cell_type": "code",
   "execution_count": null,
   "id": "e3c2ace8",
   "metadata": {},
   "outputs": [],
   "source": [
    "print('this is cool')"
   ]
  },
  {
   "cell_type": "code",
   "execution_count": null,
   "id": "04dad55a",
   "metadata": {},
   "outputs": [],
   "source": []
  },
  {
   "cell_type": "code",
   "execution_count": 1,
   "id": "840d084c",
   "metadata": {},
   "outputs": [
    {
     "name": "stdout",
     "output_type": "stream",
     "text": [
      "hello\n"
     ]
    }
   ],
   "source": [
    "print('hello')"
   ]
  },
  {
   "attachments": {},
   "cell_type": "markdown",
   "id": "b3b8f3d7",
   "metadata": {},
   "source": [
    "# hello\n",
    "- point 1\n",
    "- point 2\n"
   ]
  },
  {
   "attachments": {},
   "cell_type": "markdown",
   "id": "f0e89694",
   "metadata": {},
   "source": [
    "# hello\n",
    "- point 1\n",
    "- point 2\n"
   ]
  },
  {
   "attachments": {},
   "cell_type": "markdown",
   "id": "47cd9582",
   "metadata": {},
   "source": [
    "pr"
   ]
  },
  {
   "cell_type": "code",
   "execution_count": 9,
   "id": "337c6fbe",
   "metadata": {},
   "outputs": [
    {
     "name": "stdout",
     "output_type": "stream",
     "text": [
      "this is cool\n",
      "webFala\n"
     ]
    }
   ],
   "source": [
    "print('this is cool')\n",
    "print(name)"
   ]
  },
  {
   "cell_type": "code",
   "execution_count": 8,
   "id": "d60ea297",
   "metadata": {},
   "outputs": [],
   "source": [
    "# name = 'webFala'"
   ]
  },
  {
   "cell_type": "code",
   "execution_count": null,
   "id": "0f83d592",
   "metadata": {},
   "outputs": [],
   "source": [
    "print()"
   ]
  },
  {
   "attachments": {},
   "cell_type": "markdown",
   "id": "9d7371a2",
   "metadata": {},
   "source": [
    "# name = 'webFala'"
   ]
  },
  {
   "cell_type": "code",
   "execution_count": 10,
   "id": "979f843b",
   "metadata": {},
   "outputs": [],
   "source": [
    "# name = 'webFala'"
   ]
  },
  {
   "cell_type": "code",
   "execution_count": null,
   "id": "b33f3568",
   "metadata": {},
   "outputs": [],
   "source": []
  }
 ],
 "metadata": {
  "kernelspec": {
   "display_name": "Python 3 (ipykernel)",
   "language": "python",
   "name": "python3"
  },
  "language_info": {
   "codemirror_mode": {
    "name": "ipython",
    "version": 3
   },
   "file_extension": ".py",
   "mimetype": "text/x-python",
   "name": "python",
   "nbconvert_exporter": "python",
   "pygments_lexer": "ipython3",
   "version": "3.10.4"
  }
 },
 "nbformat": 4,
 "nbformat_minor": 5
}
